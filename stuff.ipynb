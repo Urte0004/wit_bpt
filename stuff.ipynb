{
 "cells": [
  {
   "cell_type": "code",
   "execution_count": 1,
   "metadata": {},
   "outputs": [],
   "source": [
    "import pandas as pd\n",
    "import numpy as np\n",
    "import matplotlib.pyplot"
   ]
  },
  {
   "cell_type": "code",
   "execution_count": 3,
   "metadata": {},
   "outputs": [],
   "source": [
    "#fixed accoridng to trust conveyance\n",
    "costs = 37.5\n",
    "#cost adjustment factor, cumulative cpi since 1989\n",
    "caf = 2.5\n",
    "#taxes using 2023 average\n",
    "tax = 2.9\n",
    "#daily production of barrels subject to royalty interest, using 2023 number from 10-k\n",
    "prod = 650000\n",
    "#royalty interest\n",
    "royalty_pct = .164\n",
    "#WTI futures quotes\n",
    "nov = 69.34\n",
    "dec = 68.84\n",
    "jan = 68.44\n",
    "#trading days until the BPT \"call option\" expires.\n",
    "n_days = 73\n",
    "#amount needed to earn in next n_days for the royalty to not terminate\n",
    "nec_royalty = 20000000\n"
   ]
  },
  {
   "cell_type": "code",
   "execution_count": 4,
   "metadata": {},
   "outputs": [],
   "source": [
    "#breakeven WTI price for BPT to expire itm (i.e. not terminate)\n",
    "breakeven = ((nec_royalty/n_days)/(royalty_pct*prod))+(tax+(costs*caf))"
   ]
  },
  {
   "cell_type": "code",
   "execution_count": 2,
   "metadata": {},
   "outputs": [],
   "source": [
    "df = pd.read_csv(\"wti_historical.csv\")"
   ]
  }
 ],
 "metadata": {
  "kernelspec": {
   "display_name": ".venv",
   "language": "python",
   "name": "python3"
  },
  "language_info": {
   "codemirror_mode": {
    "name": "ipython",
    "version": 3
   },
   "file_extension": ".py",
   "mimetype": "text/x-python",
   "name": "python",
   "nbconvert_exporter": "python",
   "pygments_lexer": "ipython3",
   "version": "3.12.2"
  }
 },
 "nbformat": 4,
 "nbformat_minor": 2
}
